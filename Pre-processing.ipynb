{
 "cells": [
  {
   "cell_type": "code",
   "execution_count": 2,
   "metadata": {},
   "outputs": [],
   "source": [
    "import pyodbc\n",
    "import pandas as pd\n",
    "import plotly.plotly as py\n",
    "import plotly.graph_objs as go\n",
    "import plotly.figure_factory as FF\n",
    "import datetime as dt\n",
    "import json\n",
    "from scipy import stats\n",
    "import numpy as np\n",
    "import sys\n",
    "import math"
   ]
  },
  {
   "cell_type": "code",
   "execution_count": 5,
   "metadata": {},
   "outputs": [],
   "source": [
    "dfHDI_raw = pd.read_csv('HDI_MPI_GDI_EF_Merged_v001.csv', encoding = \"ISO-8859-1\")\n",
    "dfNFA_raw = pd.read_csv('NFA 2018 Edition.csv')\n",
    "dfCPI_raw = pd.read_csv('CPI 2015_data.csv')\n",
    "dfGINI = pd.read_csv('GINI.csv')\n",
    "dfGDP = pd.read_csv('GDP.csv')\n",
    "dfNFA_raw = dfNFA_raw.loc[dfNFA_raw['year'] == 2014]\n",
    "dfNFA_raw = dfNFA_raw[dfNFA_raw['record'].isin(['EFProdTotGHA' , 'EFConsTotGHA'])]\n",
    "del dfNFA_raw['year']\n",
    "del dfNFA_raw['country_code']\n",
    "del dfNFA_raw['record']\n",
    "del dfNFA_raw['QScore']\n",
    "dfNFA_raw = dfNFA_raw.rename(columns={'country': 'Country'})\n",
    "df_grouped = dfNFA_raw.groupby(['Country'], as_index=False).aggregate(np.sum)\n",
    "\n",
    "columns_CPI = [ 'CPI2015', 'Country', 'World Bank CPIA',\n",
    "       'World Economic Forum EOS', 'Bertelsmann Foundation TI']\n",
    "\n",
    "columns_HDI = ['Country', \n",
    "       'Human_Development_Index', 'Life_expectancy_at_birth',\n",
    "       'Expected_years_of_schooling', 'Mean_years_of_schooling',\n",
    "       'Gross_national_income_GNI_per_capita']\n",
    "dfHDI = dfHDI_raw [ columns_HDI ]\n",
    "dfCPI = dfCPI_raw [ columns_CPI]\n",
    "df1 = pd.merge(dfHDI, dfCPI, how='inner', on=['Country'])\n",
    "df_Merged = pd.merge(df_grouped, df1, how='inner', on=['Country'])\n",
    "\n",
    "GINI_list = dfGINI['Country'].tolist()\n",
    "\n",
    "GINI_new_countries = []\n",
    "for i in GINI_list:\n",
    "    country = i[1:]\n",
    "    GINI_new_countries.append(country)\n",
    "    \n",
    "new_country = pd.Series(GINI_new_countries)\n",
    "dfGINI['Country'] = new_country.values\n",
    "df_Merged = pd.merge(dfGINI, df_Merged, how='inner', on=['Country'])\n",
    "df_Merged = pd.merge(dfGDP, df_Merged, how='inner', on=['Country'])\n",
    "\n",
    "del df_Merged['World Bank CPIA']\n",
    "del df_Merged['World Economic Forum EOS']\n",
    "del df_Merged['Bertelsmann Foundation TI']\n",
    "\n",
    "df_Merged = df_Merged.rename(columns={'total': 'EFtotal', '2015': 'GDP'})\n",
    "df_merged = df_Merged.dropna(how='any')\n",
    "df_merged.to_csv(\"pre_pro_EFtot.csv\")"
   ]
  }
 ],
 "metadata": {
  "kernelspec": {
   "display_name": "Python 3",
   "language": "python",
   "name": "python3"
  },
  "language_info": {
   "codemirror_mode": {
    "name": "ipython",
    "version": 3
   },
   "file_extension": ".py",
   "mimetype": "text/x-python",
   "name": "python",
   "nbconvert_exporter": "python",
   "pygments_lexer": "ipython3",
   "version": "3.6.8"
  }
 },
 "nbformat": 4,
 "nbformat_minor": 2
}
