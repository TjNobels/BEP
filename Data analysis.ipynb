{
 "cells": [
  {
   "cell_type": "code",
   "execution_count": 1,
   "metadata": {},
   "outputs": [],
   "source": [
    "import pyodbc\n",
    "import pandas as pd\n",
    "import plotly.plotly as py\n",
    "import plotly.graph_objs as go\n",
    "import plotly.figure_factory as FF\n",
    "import datetime as dt\n",
    "import json\n",
    "from scipy import stats\n",
    "import numpy as np\n",
    "import sys\n",
    "import math\n",
    "from scipy.stats.stats import pearsonr"
   ]
  },
  {
   "cell_type": "code",
   "execution_count": 6,
   "metadata": {},
   "outputs": [],
   "source": [
    "df_Merged = pd.read_csv('pre_pro_EFtot.csv')\n",
    "\n",
    "expYS_list = df_Merged['Expected_years_of_schooling'].tolist()\n",
    "CPI_list = df_Merged['CPI2015'].tolist()\n",
    "EF_list = df_Merged['EFtotal'].tolist()\n",
    "crop_land = df_Merged['crop_land'].tolist()\n",
    "grazing_land = df_Merged['grazing_land'].tolist()\n",
    "forest_land = df_Merged['forest_land'].tolist()\n",
    "fishing_ground = df_Merged['fishing_ground'].tolist()\n",
    "built_up_land = df_Merged['built_up_land'].tolist()\n",
    "carbon = df_Merged['carbon'].tolist()\n",
    "GDP = df_Merged['GDP'].tolist()\n",
    "HDI = df_Merged['Human_Development_Index'].tolist()\n",
    "GNI_list_bad = df_Merged['Gross_national_income_GNI_per_capita'].tolist()\n",
    "GINI_list_bad = df_Merged['GINI'].tolist()\n",
    "GINI_list = []\n",
    "GNI_list = []\n",
    "\n",
    "for i in GNI_list_bad:\n",
    "    intValue = int(i)\n",
    "    GNI_list.append(intValue)\n",
    "\n",
    "GINI_list1 = list(map(lambda x: 0.0 if math.isnan(x) else x, GINI_list_bad))\n",
    "avgGINI = sum(GINI_list1) / len(GINI_list1)    \n",
    "GINI_list = list(map(lambda x: avgGINI if math.isnan(x) else x, GINI_list_bad))\n",
    "\n",
    "slope, intercept, r_value, p_value, std_err = stats.linregress(x=GDP,y=CPI_list)\n",
    "\n",
    "# This calculates the predicted value for each observed value\n",
    "obs_values = CPI_list\n",
    "pred_values = []\n",
    "for i in GDP:\n",
    "    pred_i = float(i) * float(slope) + float(intercept)\n",
    "    pred_values.append(pred_i)\n",
    "\n",
    "# This prints the residual for each pair of observations\n",
    "residual = []\n",
    "for obs_v,pred_v in zip(obs_values,pred_values):\n",
    "    res_v = obs_v - pred_v\n",
    "    residual.append(res_v)\n",
    "    \n",
    "res_CPI = residual\n",
    "\n",
    "del df_Merged['Unnamed: 0']\n",
    "res_CPI = pd.Series(res_CPI)\n",
    "df_Merged['residual_CPI'] = res_CPI.values\n",
    "df_corr = df_Merged.corr()\n",
    "\n",
    "list_of_lists = (\n",
    "    GDP,\n",
    "    HDI,\n",
    "    expYS_list,\n",
    "    CPI_list,\n",
    "    EF_list,\n",
    "    crop_land,\n",
    "    grazing_land,\n",
    "    forest_land,\n",
    "    fishing_ground,\n",
    "    built_up_land,\n",
    "    carbon,\n",
    "    GINI_list,\n",
    "    GNI_list\n",
    ")\n",
    "\n",
    "list_of_names = (\n",
    "    'GDP',\n",
    "    'HDI',\n",
    "    'expYS_list',\n",
    "    'CPI_list',\n",
    "    'EF_list',\n",
    "    'crop_land',\n",
    "    'grazing_land',\n",
    "    'forest_land',\n",
    "    'fishing_ground',\n",
    "    'built_up_land',\n",
    "    'carbon',\n",
    "    'GINI_list',\n",
    "    'GNI_list'\n",
    ")\n",
    "\n",
    "result = []\n",
    "\n",
    "for i,j in zip(list_of_lists, list_of_names):\n",
    "    result.append(pearsonr(res_CPI, i))\n",
    "\n",
    "corr_coef, p_value = zip(*result)\n",
    "\n",
    "corr_coef = list(corr_coef)\n",
    "p_value = list(p_value)\n",
    "list_of_names = list(list_of_names)\n",
    "\n",
    "dict_df = {'Indicator': list_of_names, 'Correlation Coefficient': corr_coef, 'P Value': p_value}\n",
    "df_pearson = pd.DataFrame(dict_df)\n",
    "\n",
    "#df_pearson.to_csv(\"pearson.csv\")\n",
    "#df_corr.to_csv(\"correlation.csv\")"
   ]
  },
  {
   "cell_type": "code",
   "execution_count": 16,
   "metadata": {},
   "outputs": [
    {
     "data": {
      "text/html": [
       "<iframe id=\"igraph\" scrolling=\"no\" style=\"border:none;\" seamless=\"seamless\" src=\"https://plot.ly/~TjNobels/26.embed\" height=\"525px\" width=\"100%\"></iframe>"
      ],
      "text/plain": [
       "<plotly.tools.PlotlyDisplay object>"
      ]
     },
     "execution_count": 16,
     "metadata": {},
     "output_type": "execute_result"
    }
   ],
   "source": [
    "df = df_Merged\n",
    "\n",
    "df = df[np.abs(df['crop_land']-df['crop_land'].mean()) <= (2*df['crop_land'].std())]\n",
    "crop_land = df['crop_land'].tolist()\n",
    "\n",
    "trace1 = go.Scatter(\n",
    "            x = CPI_list,\n",
    "            y = GINI_list,\n",
    "            mode = 'markers'\n",
    "            )\n",
    "\n",
    "data = [trace1]\n",
    "\n",
    "layout = dict(xaxis = dict(title = 'EF of crop land (GHA)',\n",
    "                          #type='log',\n",
    "                          #autorange=True\n",
    "                          ),\n",
    "              yaxis = dict(title = 'Expected Year of Schooling',\n",
    "                          #type='log',\n",
    "                          #autorange=True\n",
    "                          ),\n",
    "             )\n",
    "\n",
    "fig1 = dict(data=data, layout=layout)\n",
    "py.iplot(fig1, filename='styled-line')"
   ]
  },
  {
   "cell_type": "code",
   "execution_count": 5,
   "metadata": {},
   "outputs": [
    {
     "data": {
      "text/plain": [
       "93"
      ]
     },
     "execution_count": 5,
     "metadata": {},
     "output_type": "execute_result"
    }
   ],
   "source": [
    "df = pd.read_csv('OGP_Explorer__selected_Commitments_irm_data.csv')\n",
    "df['Country name'].nunique()"
   ]
  }
 ],
 "metadata": {
  "kernelspec": {
   "display_name": "Python 3",
   "language": "python",
   "name": "python3"
  },
  "language_info": {
   "codemirror_mode": {
    "name": "ipython",
    "version": 3
   },
   "file_extension": ".py",
   "mimetype": "text/x-python",
   "name": "python",
   "nbconvert_exporter": "python",
   "pygments_lexer": "ipython3",
   "version": "3.6.8"
  }
 },
 "nbformat": 4,
 "nbformat_minor": 2
}
