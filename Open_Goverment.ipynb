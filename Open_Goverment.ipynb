{
 "cells": [
  {
   "cell_type": "code",
   "execution_count": 1,
   "metadata": {},
   "outputs": [],
   "source": [
    "import pyodbc\n",
    "import pandas as pd\n",
    "import plotly.plotly as py\n",
    "import plotly.graph_objs as go\n",
    "import plotly.figure_factory as FF\n",
    "import datetime as dt\n",
    "import json\n",
    "from scipy import stats\n",
    "import numpy as np\n",
    "import sys\n",
    "import math\n",
    "from scipy.stats.stats import pearsonr"
   ]
  },
  {
   "cell_type": "code",
   "execution_count": 14,
   "metadata": {},
   "outputs": [
    {
     "name": "stderr",
     "output_type": "stream",
     "text": [
      "C:\\Users\\Tj\\Anaconda3\\lib\\site-packages\\IPython\\core\\interactiveshell.py:2698: DtypeWarning:\n",
      "\n",
      "Columns (24) have mixed types. Specify dtype option on import or set low_memory=False.\n",
      "\n"
     ]
    },
    {
     "data": {
      "text/html": [
       "<iframe id=\"igraph\" scrolling=\"no\" style=\"border:none;\" seamless=\"seamless\" src=\"https://plot.ly/~TjNobels/24.embed\" height=\"525px\" width=\"100%\"></iframe>"
      ],
      "text/plain": [
       "<plotly.tools.PlotlyDisplay object>"
      ]
     },
     "execution_count": 14,
     "metadata": {},
     "output_type": "execute_result"
    }
   ],
   "source": [
    "df = pd.read_csv('SECOP_II_-_Contratos.csv')\n",
    "\n",
    "df['Fecha de Inicio del Contrato'] = pd.to_datetime(df['Fecha de Inicio del Contrato'], format='%m/%d/%Y %H:%M:%S %p')\n",
    "df['Fecha de Inicio del Contrato'] = df['Fecha de Inicio del Contrato'].dt.year\n",
    "#df = df[df['Anno BPIN'] == 2018]\n",
    "df = df[df['Fecha de Inicio del Contrato'] == 2018]\n",
    "columns = list(df)\n",
    "\n",
    "df[\"Valor del Contrato\"] = df[\"Valor del Contrato\"].str.replace(\",\",\"\").astype(float)\n",
    "df = df[np.abs(df['Valor del Contrato']-df['Valor del Contrato'].mean()) <= (3*df['Valor del Contrato'].std())]\n",
    "\n",
    "labels = ['Contratación directa', 'Mínima cuantía',\n",
    "        'Selección abreviada subasta inversa',\n",
    "        'Selección Abreviada de Menor Cuantía',\n",
    "       'Contratación régimen especial',\n",
    "       'Contratación Directa (con ofertas)',\n",
    "       'Contratación régimen especial (con ofertas)',\n",
    "       'Concurso de méritos abierto',\n",
    "       'Licitación Pública Acuerdo Marco de Precios', 'Licitación pública',\n",
    "       'Licitación pública Obra Publica',\n",
    "       'Seleccion Abreviada Menor Cuantia Sin Manifestacion Interes']\n",
    "\n",
    "values = []\n",
    "\n",
    "for i in labels:\n",
    "    sum_value = df.loc[df['Tipo de Proceso'] == i, 'Valor del Contrato'].sum()\n",
    "    count_value = df.loc[df['Tipo de Proceso'] == i, 'Valor del Contrato'].count()\n",
    "    values.append(count_value)\n",
    "    \n",
    "    \n",
    "direct_contract = values[0] + values[5]\n",
    "special_contract = values[4] + values[6]\n",
    "public_auction = values[8] + values[9] + values[7] +values[2] + values[10]\n",
    "other = sum(values) - direct_contract - special_contract - public_auction\n",
    "\n",
    "pie_values = [direct_contract ,special_contract ,public_auction, other]\n",
    "pie_labels = ['Direct contract' ,'Special govermnment contract' ,'Public auction', 'Others']\n",
    "\n",
    "trace = go.Pie(labels=pie_labels, values=pie_values)\n",
    "\n",
    "py.iplot([trace], filename='basic_pie_chart')\n",
    "\n",
    "#trace0 = go.Box(x = df['Valor del Contrato'])\n",
    "#data = [trace0]\n",
    "#py.iplot(data)"
   ]
  },
  {
   "cell_type": "code",
   "execution_count": 35,
   "metadata": {},
   "outputs": [
    {
     "data": {
      "text/html": [
       "<iframe id=\"igraph\" scrolling=\"no\" style=\"border:none;\" seamless=\"seamless\" src=\"https://plot.ly/~TjNobels/24.embed\" height=\"525px\" width=\"100%\"></iframe>"
      ],
      "text/plain": [
       "<plotly.tools.PlotlyDisplay object>"
      ]
     },
     "execution_count": 35,
     "metadata": {},
     "output_type": "execute_result"
    }
   ],
   "source": [
    "df = pd.read_excel('reporte_casos_20190429.xlsx')\n",
    "\n",
    "\n",
    "df[\"Dinero en Juego\"] = df[\"Dinero en Juego\"].replace(\"Información no disponible\",0).astype(float)\n",
    "\n",
    "\n",
    "\n",
    "labels = ['Contratación pública', 'Funciones / Decisiones Judiciales',\n",
    "       'Político/ Electoral', 'Provisión de bienes y servicios',\n",
    "       'Presupuesto y gasto público', 'Trámites y servicio al ciudadano',\n",
    "       'Función de Planeación', 'Otros procesos administrativos',\n",
    "       'Empleo Público', 'Participación del privado en la función pública',\n",
    "       'Regulación y Licenciamiento', 'Talento Humano',\n",
    "       'Seguridad y Convivencia',\n",
    "       'Funciones / Decisiones Judiciales ,Político/ Electoral']\n",
    "\n",
    "values = []\n",
    "\n",
    "for i in labels:\n",
    "    sum_value = df.loc[df['Naturaleza Corrupción'] == i, 'Dinero en Juego'].sum()\n",
    "    count_value = df.loc[df['Naturaleza Corrupción'] == i, 'Dinero en Juego'].count()\n",
    "    values.append(sum_value)\n",
    "    \n",
    "pie_labels = ['Public contracing', 'Supply of good and services', 'Public employment', 'Citizen services', 'Others']\n",
    "contracting = values[0] + values[4]\n",
    "supply = values[3]\n",
    "employment = values[8]\n",
    "citizen = values [5]\n",
    "other = sum(values) - contracting - supply - employment - citizen\n",
    "\n",
    "pie_values = [contracting, supply, employment, citizen, other]\n",
    "    \n",
    "trace = go.Pie(labels=pie_labels, values=pie_values)\n",
    "\n",
    "py.iplot([trace], filename='basic_pie_chart')"
   ]
  },
  {
   "cell_type": "code",
   "execution_count": 39,
   "metadata": {},
   "outputs": [
    {
     "name": "stderr",
     "output_type": "stream",
     "text": [
      "C:\\Users\\Tj\\Anaconda3\\lib\\site-packages\\IPython\\core\\interactiveshell.py:2698: DtypeWarning:\n",
      "\n",
      "Columns (24) have mixed types. Specify dtype option on import or set low_memory=False.\n",
      "\n"
     ]
    },
    {
     "name": "stdout",
     "output_type": "stream",
     "text": [
      "8577679049748.2295 631805193412536.6 1019280000000000 40771200000000.0\n"
     ]
    }
   ],
   "source": [
    "df = pd.read_excel('reporte_casos_20190429.xlsx')\n",
    "df_secop = pd.read_csv('SECOP_II_-_Contratos.csv')\n",
    "\n",
    "\n",
    "\n",
    "df_secop['Fecha de Inicio del Contrato'] = pd.to_datetime(df_secop['Fecha de Inicio del Contrato'], format='%m/%d/%Y %H:%M:%S %p')\n",
    "df_secop['Fecha de Inicio del Contrato'] = df_secop['Fecha de Inicio del Contrato'].dt.year\n",
    "df_secop[\"Valor del Contrato\"] = df_secop[\"Valor del Contrato\"].str.replace(\",\",\"\").astype(float)\n",
    "df_secop = df_secop[np.abs(df_secop['Valor del Contrato']-df_secop['Valor del Contrato'].mean()) <= (3*df_secop['Valor del Contrato'].std())]\n",
    "\n",
    "df[\"Dinero en Juego\"] = df[\"Dinero en Juego\"].replace(\"Información no disponible\",0).astype(float)\n",
    "df = df[df['Año Final Hecho'].notnull()]\n",
    "df = df[df['Año Inicial Hecho'].notnull()]\n",
    "df['Año Final Hecho'].astype(float)\n",
    "df['Año Inicial Hecho'].astype(float)\n",
    "\n",
    "#df['year_avg'] = df.loc[(df['Dinero en Juego'] != 0), 'Dinero en Juego'] = df['Dinero en Juego'] / (df['Año Final Hecho'] - ['Año Inicial Hecho'] + 1)\n",
    "#df['year_avg']\n",
    "\n",
    "df['action_year'] = df['Año Final Hecho'] - df['Año Inicial Hecho'] + 1\n",
    "df['year_avg_amount'] = df['Dinero en Juego'] / df['action_year']\n",
    "\n",
    "pesos_lost = df['year_avg_amount'].sum()\n",
    "pesos_declare = df_secop['Valor del Contrato'].sum() / 3\n",
    "colombia_GDP = 310 * 10 ** 9 * 3288\n",
    "colombia_budget = colombia_GDP * 0.04\n",
    "\n",
    "print(pesos_lost,\n",
    "pesos_declare,\n",
    "colombia_GDP,\n",
    "colombia_budget,)"
   ]
  },
  {
   "cell_type": "code",
   "execution_count": 40,
   "metadata": {},
   "outputs": [
    {
     "data": {
      "text/html": [
       "<iframe id=\"igraph\" scrolling=\"no\" style=\"border:none;\" seamless=\"seamless\" src=\"https://plot.ly/~TjNobels/24.embed\" height=\"525px\" width=\"100%\"></iframe>"
      ],
      "text/plain": [
       "<plotly.tools.PlotlyDisplay object>"
      ]
     },
     "execution_count": 40,
     "metadata": {},
     "output_type": "execute_result"
    }
   ],
   "source": [
    "values = [pesos_lost, pesos_declare, colombia_GDP, colombia_budget]\n",
    "labels = ['pesos_lost', 'pesos_declare', 'colombia_GDP', 'colombia_budget']\n",
    "trace = go.Pie(labels=labels, values=values)\n",
    "\n",
    "py.iplot([trace], filename='basic_pie_chart')"
   ]
  }
 ],
 "metadata": {
  "kernelspec": {
   "display_name": "Python 3",
   "language": "python",
   "name": "python3"
  },
  "language_info": {
   "codemirror_mode": {
    "name": "ipython",
    "version": 3
   },
   "file_extension": ".py",
   "mimetype": "text/x-python",
   "name": "python",
   "nbconvert_exporter": "python",
   "pygments_lexer": "ipython3",
   "version": "3.6.8"
  }
 },
 "nbformat": 4,
 "nbformat_minor": 2
}
